{
 "cells": [
  {
   "cell_type": "code",
   "execution_count": 46,
   "id": "9c8a01ca-277a-4736-9dbd-f6f1825eade7",
   "metadata": {},
   "outputs": [],
   "source": [
    "import pandas as pd\n",
    "import numpy as np\n",
    "import mosaic.io as mio\n",
    "import plotly.express as px\n",
    "from pathlib import Path\n",
    "import os\n",
    "import seaborn as sns\n",
    "import itertools\n",
    "\n",
    "from scipy.stats import betabinom\n",
    "from scipy.stats import binom\n",
    "from scipy.special import logsumexp\n",
    "from scipy.stats import fisher_exact\n",
    "\n",
    "from poibin import PoiBin"
   ]
  },
  {
   "cell_type": "code",
   "execution_count": 2,
   "id": "d6d6750a-6bc0-4bbb-afdb-bf13469c7aa8",
   "metadata": {},
   "outputs": [],
   "source": [
    "patient_name = \"PC11\"\n",
    "pt_h5 = f\"../data/rebuttal/{patient_name}.patient_wide.genotyped.h5\""
   ]
  },
  {
   "cell_type": "code",
   "execution_count": 3,
   "id": "9c086607-bc8c-4ee4-acba-5679d3812cb3",
   "metadata": {},
   "outputs": [
    {
     "name": "stdout",
     "output_type": "stream",
     "text": [
      "Loading, ../data/rebuttal/PC11.patient_wide.genotyped.h5\n"
     ]
    },
    {
     "name": "stderr",
     "output_type": "stream",
     "text": [
      "/Users/psashittal/Documents/research/mosaic/src/mosaic/assay.py:218: UserWarning: Multiple samples detected. Appending the sample name to the barcodes to avoid duplicate barcodes. The original barcodes are stored in the original_barcode row attribute\n",
      "  warnings.warn(msg)\n"
     ]
    },
    {
     "name": "stdout",
     "output_type": "stream",
     "text": [
      "Loaded in 1.3s.\n"
     ]
    }
   ],
   "source": [
    "pt = mio.load(pt_h5)"
   ]
  },
  {
   "cell_type": "code",
   "execution_count": 4,
   "id": "830af7fd-9250-4790-a39c-0e0acd7e4b78",
   "metadata": {},
   "outputs": [],
   "source": [
    "cravat = pd.read_csv(f\"../data/rebuttal/{patient_name}_CRAVAT_output_cleaned.txt\", sep = \"\\t\", index_col = 0, header=[0,1])"
   ]
  },
  {
   "cell_type": "code",
   "execution_count": 5,
   "id": "25851cb5-1655-4379-b2a0-d723350060b9",
   "metadata": {},
   "outputs": [],
   "source": [
    "cravat = cravat[\n",
    "        (~cravat[(\"Variant Annotation\", \"Sequence Ontology\")].isin([])) & \n",
    "        (~(cravat[(\"PoN_comparison\", \"PoN-superset-normals-occurence\")] > 1))\n",
    "        ]"
   ]
  },
  {
   "cell_type": "code",
   "execution_count": 6,
   "id": "161401ec-7e0a-4a1c-8ceb-e0257aa9eae4",
   "metadata": {},
   "outputs": [
    {
     "name": "stderr",
     "output_type": "stream",
     "text": [
      "WARNING:root:original NGT layer not found.\n",
      "WARNING:root:GQ layer not found. Using all zeros.\n"
     ]
    }
   ],
   "source": [
    "pt.dna.genotype_variants()"
   ]
  },
  {
   "cell_type": "code",
   "execution_count": 7,
   "id": "37125aa9-5045-430d-86f9-0e2e60b9664a",
   "metadata": {},
   "outputs": [],
   "source": [
    "snv_f = f\"../data/rebuttal/{patient_name}-patient-all_vars-voi.hz_curated.txt\""
   ]
  },
  {
   "cell_type": "code",
   "execution_count": 8,
   "id": "0cf35862-eed1-4430-b461-3f19bacda499",
   "metadata": {},
   "outputs": [],
   "source": [
    "snv_df = pd.read_csv(snv_f, sep = '\\t', index_col = 0, comment='#')\n",
    "snv_df[\"annotation\"].fillna(\"\", inplace=True)\n",
    "# filter out artifact\n",
    "snv_df = snv_df[~snv_df['annotation'].str.contains(\"artifact\")]\n",
    "# filter out germline HOM\n",
    "snv_df = snv_df[~snv_df['annotation'].str.contains(\"germline_HOM\")]\n",
    "snv_df.sort_values(by=[\"mut_prev\", \"HGVSp\"], ascending=False)\n",
    "snv_ann_map = snv_df['HGVSp'].to_dict()"
   ]
  },
  {
   "cell_type": "code",
   "execution_count": 9,
   "id": "b8f2e9ea-1ae7-4ec6-afd9-2dcf8d5d1425",
   "metadata": {},
   "outputs": [],
   "source": [
    "VOI = snv_df[snv_df[\"annotation\"].str.contains(\"somatic\")].index.tolist()\n",
    "VOI += [\"chr12:25398284:C/T\"]\n",
    "VOI = [v for v in VOI if v != \"chr3:178936082:G/A\"]\n",
    "snv_ann_map[\"chr12:25398284:C/T\"] = \"KRAS p.Gly12Asp\""
   ]
  },
  {
   "cell_type": "code",
   "execution_count": 10,
   "id": "5113ee14-8ba9-4fdf-9c84-d8c4a896a6ee",
   "metadata": {},
   "outputs": [],
   "source": [
    "df_total = pt.dna.get_attribute('DP', constraint='row', features=VOI)"
   ]
  },
  {
   "cell_type": "code",
   "execution_count": 11,
   "id": "f4b81c6c-60a8-4c6a-b02d-b5ca7d4b7fb2",
   "metadata": {},
   "outputs": [],
   "source": [
    "df_alt = pt.dna.get_attribute('alt_read_count', constraint='row', features=VOI)"
   ]
  },
  {
   "cell_type": "markdown",
   "id": "43bce79f-f065-4943-a393-5c192990f68a",
   "metadata": {},
   "source": [
    "# current mutual exclusivity test"
   ]
  },
  {
   "cell_type": "code",
   "execution_count": 12,
   "id": "a2d86d08-631b-4a54-ba4d-294dd2dea195",
   "metadata": {},
   "outputs": [],
   "source": [
    "ncells = df_alt.shape[0]\n",
    "nmutations = df_alt.shape[1]\n",
    "mutation_list = list(df_alt.columns)"
   ]
  },
  {
   "cell_type": "code",
   "execution_count": 13,
   "id": "581807ba-694b-4ee0-8061-d79237815bb5",
   "metadata": {},
   "outputs": [],
   "source": [
    "ado_precision = 15 # precision parameter\n",
    "fp = 0.001 # false positive rate"
   ]
  },
  {
   "cell_type": "code",
   "execution_count": 14,
   "id": "26b53dbd-823f-4edc-83df-1636bd0c6079",
   "metadata": {},
   "outputs": [],
   "source": [
    "# this part needs work -- how do you go from read counts to probabilities of presence of mutations?\n",
    "total_reads_mat = df_total.values\n",
    "alt_reads_mat = df_alt.values\n",
    "\n",
    "bb_alpha = fp * ado_precision\n",
    "bb_beta = (1 - fp) * ado_precision\n",
    "\n",
    "presence_coeff_mat = betabinom.logpmf(alt_reads_mat, total_reads_mat, 1, 1)\n",
    "absence_coeff_mat = betabinom.logpmf(alt_reads_mat, total_reads_mat, bb_alpha, bb_beta)\n",
    "\n",
    "presence_absence_tensor = np.stack([presence_coeff_mat, absence_coeff_mat], axis=2)\n",
    "total_coeff_mat = logsumexp(presence_absence_tensor, axis=2)\n",
    "\n",
    "normalized_presence_prob = np.exp(presence_coeff_mat - total_coeff_mat)"
   ]
  },
  {
   "cell_type": "code",
   "execution_count": null,
   "id": "53ab5375-551a-4a89-99db-8f23d498dd8d",
   "metadata": {},
   "outputs": [],
   "source": [
    "# presence_coeff_mat = betabinom.logpmf(alt_reads_mat, total_reads_mat, 1, 1)\n",
    "# absence_coeff_mat = betabinom.logpmf(alt_reads_mat, total_reads_mat, bb_alpha, bb_beta)"
   ]
  },
  {
   "cell_type": "code",
   "execution_count": 28,
   "id": "16db4d3c-b6e5-4bfc-94f4-4b39bd14ef12",
   "metadata": {},
   "outputs": [],
   "source": [
    "normalized_presence_prob[df_alt == 0] = 0"
   ]
  },
  {
   "cell_type": "code",
   "execution_count": 29,
   "id": "5e9be93c-f1a1-4221-aafd-c484365f13f3",
   "metadata": {},
   "outputs": [],
   "source": [
    "# # alternative probability model\n",
    "# vaf_threshold = 0.1\n",
    "# dp_threshold = 10\n",
    "# alt_threshold = 3\n",
    "\n",
    "# df_vaf = df_alt / df_total\n",
    "\n",
    "# df_mutation = ((df_vaf >= vaf_threshold) & (df_total >= dp_threshold) & (df_alt >= alt_threshold)).astype(int)\n",
    "\n",
    "# weight_presence = 0.9\n",
    "# weight_absence = 0.1\n",
    "# df_prob = df_mutation * (weight_presence - weight_absence) + weight_absence\n",
    "\n",
    "# normalized_presence_prob = df_prob.values"
   ]
  },
  {
   "cell_type": "code",
   "execution_count": 31,
   "id": "68224739-d96a-420e-9a45-459c9e97ecd8",
   "metadata": {},
   "outputs": [],
   "source": [
    "# g = sns.clustermap(normalized_presence_prob, col_cluster=False, figsize=(8,6))\n",
    "# # ax.set_xticklabels(df_total.columns, rotation=90);\n",
    "# g.ax_heatmap.axes.set_xticklabels(df_alt.columns, rotation=90);"
   ]
  },
  {
   "cell_type": "code",
   "execution_count": 32,
   "id": "f9c119c1-7519-412d-bb46-ed9d70e40cf2",
   "metadata": {},
   "outputs": [
    {
     "name": "stderr",
     "output_type": "stream",
     "text": [
      "/var/folders/r8/hw328ck96hxbslq1ftmyz7tr0000gn/T/ipykernel_30996/1457504995.py:1: RuntimeWarning: divide by zero encountered in log\n",
      "  null_prob_vector = np.exp(logsumexp(np.log(normalized_presence_prob), axis=0) - np.log(ncells))\n"
     ]
    }
   ],
   "source": [
    "null_prob_vector = np.exp(logsumexp(np.log(normalized_presence_prob), axis=0) - np.log(ncells))"
   ]
  },
  {
   "cell_type": "code",
   "execution_count": 33,
   "id": "45958245-42f4-4bd7-86c4-4920fc89f4a0",
   "metadata": {},
   "outputs": [
    {
     "data": {
      "text/plain": [
       "array([0.42373204, 0.36158246, 0.35912074, 0.0194819 ])"
      ]
     },
     "execution_count": 33,
     "metadata": {},
     "output_type": "execute_result"
    }
   ],
   "source": [
    "null_prob_vector"
   ]
  },
  {
   "cell_type": "code",
   "execution_count": 34,
   "id": "66bf4257-034a-458a-bb18-8f3f2e0b1c54",
   "metadata": {},
   "outputs": [],
   "source": [
    "test_data =[]\n",
    "for mut1_idx, mut2_idx in itertools.combinations(range(nmutations), 2):\n",
    "\n",
    "    p_vector = (normalized_presence_prob[:, mut1_idx] * (1 - normalized_presence_prob[:, mut2_idx]) +\n",
    "                normalized_presence_prob[:, mut2_idx] * (1 - normalized_presence_prob[:, mut1_idx]))\n",
    "\n",
    "    null_prob = (null_prob_vector[mut1_idx] * (1 - null_prob_vector[mut2_idx]) +\n",
    "                 null_prob_vector[mut2_idx] * (1 - null_prob_vector[mut1_idx]))\n",
    "\n",
    "    pb = PoiBin(p_vector)\n",
    "\n",
    "    me_inv_pval = 0\n",
    "    for k in range(ncells):\n",
    "        me_inv_pval += pb.pval(k) * binom.pmf(k, ncells, null_prob)\n",
    "        \n",
    "    test_data.append([mutation_list[mut1_idx], mutation_list[mut2_idx], 1 - me_inv_pval])"
   ]
  },
  {
   "cell_type": "code",
   "execution_count": 35,
   "id": "ac5c8380-d74c-409b-bf9e-911b5b1d2641",
   "metadata": {},
   "outputs": [],
   "source": [
    "df_test = pd.DataFrame(test_data, columns = ['mutation1', 'mutation2', 'exclusivity'])"
   ]
  },
  {
   "cell_type": "code",
   "execution_count": 38,
   "id": "6f336214-aeb8-4a12-b4b5-27b059c697e5",
   "metadata": {},
   "outputs": [
    {
     "data": {
      "text/html": [
       "<div>\n",
       "<style scoped>\n",
       "    .dataframe tbody tr th:only-of-type {\n",
       "        vertical-align: middle;\n",
       "    }\n",
       "\n",
       "    .dataframe tbody tr th {\n",
       "        vertical-align: top;\n",
       "    }\n",
       "\n",
       "    .dataframe thead th {\n",
       "        text-align: right;\n",
       "    }\n",
       "</style>\n",
       "<table border=\"1\" class=\"dataframe\">\n",
       "  <thead>\n",
       "    <tr style=\"text-align: right;\">\n",
       "      <th></th>\n",
       "      <th>mutation1</th>\n",
       "      <th>mutation2</th>\n",
       "      <th>exclusivity</th>\n",
       "    </tr>\n",
       "  </thead>\n",
       "  <tbody>\n",
       "    <tr>\n",
       "      <th>0</th>\n",
       "      <td>chr12:25398284:C/A</td>\n",
       "      <td>chr18:48573531:G/A</td>\n",
       "      <td>1.000000</td>\n",
       "    </tr>\n",
       "    <tr>\n",
       "      <th>1</th>\n",
       "      <td>chr12:25398284:C/A</td>\n",
       "      <td>chr18:48573570:G/A</td>\n",
       "      <td>1.000000</td>\n",
       "    </tr>\n",
       "    <tr>\n",
       "      <th>2</th>\n",
       "      <td>chr12:25398284:C/A</td>\n",
       "      <td>chr12:25398284:C/T</td>\n",
       "      <td>0.968169</td>\n",
       "    </tr>\n",
       "    <tr>\n",
       "      <th>3</th>\n",
       "      <td>chr18:48573531:G/A</td>\n",
       "      <td>chr18:48573570:G/A</td>\n",
       "      <td>1.000000</td>\n",
       "    </tr>\n",
       "    <tr>\n",
       "      <th>4</th>\n",
       "      <td>chr18:48573531:G/A</td>\n",
       "      <td>chr12:25398284:C/T</td>\n",
       "      <td>0.963774</td>\n",
       "    </tr>\n",
       "    <tr>\n",
       "      <th>5</th>\n",
       "      <td>chr18:48573570:G/A</td>\n",
       "      <td>chr12:25398284:C/T</td>\n",
       "      <td>0.961625</td>\n",
       "    </tr>\n",
       "  </tbody>\n",
       "</table>\n",
       "</div>"
      ],
      "text/plain": [
       "            mutation1           mutation2  exclusivity\n",
       "0  chr12:25398284:C/A  chr18:48573531:G/A     1.000000\n",
       "1  chr12:25398284:C/A  chr18:48573570:G/A     1.000000\n",
       "2  chr12:25398284:C/A  chr12:25398284:C/T     0.968169\n",
       "3  chr18:48573531:G/A  chr18:48573570:G/A     1.000000\n",
       "4  chr18:48573531:G/A  chr12:25398284:C/T     0.963774\n",
       "5  chr18:48573570:G/A  chr12:25398284:C/T     0.961625"
      ]
     },
     "execution_count": 38,
     "metadata": {},
     "output_type": "execute_result"
    }
   ],
   "source": [
    "df_test"
   ]
  },
  {
   "cell_type": "code",
   "execution_count": 23,
   "id": "dec31d23-8074-4f20-9c0d-dc0c1cebe480",
   "metadata": {},
   "outputs": [
    {
     "data": {
      "text/html": [
       "<div>\n",
       "<style scoped>\n",
       "    .dataframe tbody tr th:only-of-type {\n",
       "        vertical-align: middle;\n",
       "    }\n",
       "\n",
       "    .dataframe tbody tr th {\n",
       "        vertical-align: top;\n",
       "    }\n",
       "\n",
       "    .dataframe thead th {\n",
       "        text-align: right;\n",
       "    }\n",
       "</style>\n",
       "<table border=\"1\" class=\"dataframe\">\n",
       "  <thead>\n",
       "    <tr style=\"text-align: right;\">\n",
       "      <th></th>\n",
       "      <th>mutation1</th>\n",
       "      <th>mutation2</th>\n",
       "      <th>exclusivity</th>\n",
       "    </tr>\n",
       "  </thead>\n",
       "  <tbody>\n",
       "    <tr>\n",
       "      <th>0</th>\n",
       "      <td>chr12:25398284:C/A</td>\n",
       "      <td>chr18:48573531:G/A</td>\n",
       "      <td>1.000000</td>\n",
       "    </tr>\n",
       "    <tr>\n",
       "      <th>1</th>\n",
       "      <td>chr12:25398284:C/A</td>\n",
       "      <td>chr18:48573570:G/A</td>\n",
       "      <td>1.000000</td>\n",
       "    </tr>\n",
       "    <tr>\n",
       "      <th>2</th>\n",
       "      <td>chr12:25398284:C/A</td>\n",
       "      <td>chr12:25398284:C/T</td>\n",
       "      <td>0.592880</td>\n",
       "    </tr>\n",
       "    <tr>\n",
       "      <th>3</th>\n",
       "      <td>chr18:48573531:G/A</td>\n",
       "      <td>chr18:48573570:G/A</td>\n",
       "      <td>1.000000</td>\n",
       "    </tr>\n",
       "    <tr>\n",
       "      <th>4</th>\n",
       "      <td>chr18:48573531:G/A</td>\n",
       "      <td>chr12:25398284:C/T</td>\n",
       "      <td>0.176813</td>\n",
       "    </tr>\n",
       "    <tr>\n",
       "      <th>5</th>\n",
       "      <td>chr18:48573570:G/A</td>\n",
       "      <td>chr12:25398284:C/T</td>\n",
       "      <td>0.171628</td>\n",
       "    </tr>\n",
       "  </tbody>\n",
       "</table>\n",
       "</div>"
      ],
      "text/plain": [
       "            mutation1           mutation2  exclusivity\n",
       "0  chr12:25398284:C/A  chr18:48573531:G/A     1.000000\n",
       "1  chr12:25398284:C/A  chr18:48573570:G/A     1.000000\n",
       "2  chr12:25398284:C/A  chr12:25398284:C/T     0.592880\n",
       "3  chr18:48573531:G/A  chr18:48573570:G/A     1.000000\n",
       "4  chr18:48573531:G/A  chr12:25398284:C/T     0.176813\n",
       "5  chr18:48573570:G/A  chr12:25398284:C/T     0.171628"
      ]
     },
     "execution_count": 23,
     "metadata": {},
     "output_type": "execute_result"
    }
   ],
   "source": [
    "df_test"
   ]
  },
  {
   "cell_type": "code",
   "execution_count": 22,
   "id": "59715e4d-eb1e-4489-b8c5-ca804ae7c44a",
   "metadata": {},
   "outputs": [
    {
     "data": {
      "text/html": [
       "<div>\n",
       "<style scoped>\n",
       "    .dataframe tbody tr th:only-of-type {\n",
       "        vertical-align: middle;\n",
       "    }\n",
       "\n",
       "    .dataframe tbody tr th {\n",
       "        vertical-align: top;\n",
       "    }\n",
       "\n",
       "    .dataframe thead th {\n",
       "        text-align: right;\n",
       "    }\n",
       "</style>\n",
       "<table border=\"1\" class=\"dataframe\">\n",
       "  <thead>\n",
       "    <tr style=\"text-align: right;\">\n",
       "      <th></th>\n",
       "      <th>mutation1</th>\n",
       "      <th>mutation2</th>\n",
       "      <th>exclusivity</th>\n",
       "    </tr>\n",
       "  </thead>\n",
       "  <tbody>\n",
       "  </tbody>\n",
       "</table>\n",
       "</div>"
      ],
      "text/plain": [
       "Empty DataFrame\n",
       "Columns: [mutation1, mutation2, exclusivity]\n",
       "Index: []"
      ]
     },
     "execution_count": 22,
     "metadata": {},
     "output_type": "execute_result"
    }
   ],
   "source": [
    "df_test[df_test['exclusivity'] < 0.1]"
   ]
  },
  {
   "cell_type": "code",
   "execution_count": 187,
   "id": "e160a5f2-1262-4cb4-a6cf-da19fb428d53",
   "metadata": {},
   "outputs": [
    {
     "data": {
      "text/html": [
       "<div>\n",
       "<style scoped>\n",
       "    .dataframe tbody tr th:only-of-type {\n",
       "        vertical-align: middle;\n",
       "    }\n",
       "\n",
       "    .dataframe tbody tr th {\n",
       "        vertical-align: top;\n",
       "    }\n",
       "\n",
       "    .dataframe thead th {\n",
       "        text-align: right;\n",
       "    }\n",
       "</style>\n",
       "<table border=\"1\" class=\"dataframe\">\n",
       "  <thead>\n",
       "    <tr style=\"text-align: right;\">\n",
       "      <th></th>\n",
       "      <th>mutation1</th>\n",
       "      <th>mutation2</th>\n",
       "      <th>exclusivity</th>\n",
       "    </tr>\n",
       "  </thead>\n",
       "  <tbody>\n",
       "    <tr>\n",
       "      <th>3</th>\n",
       "      <td>chr2:25457199:T/C</td>\n",
       "      <td>chr16:347184:A/G</td>\n",
       "      <td>3.668695e-03</td>\n",
       "    </tr>\n",
       "    <tr>\n",
       "      <th>4</th>\n",
       "      <td>chr2:25457199:T/C</td>\n",
       "      <td>chr19:11096851:A/G</td>\n",
       "      <td>2.393277e-03</td>\n",
       "    </tr>\n",
       "    <tr>\n",
       "      <th>5</th>\n",
       "      <td>chr2:25457199:T/C</td>\n",
       "      <td>chr17:29685905:A/G</td>\n",
       "      <td>2.622583e-04</td>\n",
       "    </tr>\n",
       "    <tr>\n",
       "      <th>7</th>\n",
       "      <td>chr2:25457199:T/C</td>\n",
       "      <td>chr1:27099479:G/A</td>\n",
       "      <td>2.086475e-04</td>\n",
       "    </tr>\n",
       "    <tr>\n",
       "      <th>9</th>\n",
       "      <td>chr17:7577556:C/T</td>\n",
       "      <td>chr17:41245466:G/A</td>\n",
       "      <td>2.635669e-13</td>\n",
       "    </tr>\n",
       "    <tr>\n",
       "      <th>21</th>\n",
       "      <td>chr17:41245466:G/A</td>\n",
       "      <td>chr16:347184:A/G</td>\n",
       "      <td>3.381742e-04</td>\n",
       "    </tr>\n",
       "    <tr>\n",
       "      <th>23</th>\n",
       "      <td>chr17:41245466:G/A</td>\n",
       "      <td>chr17:29685905:A/G</td>\n",
       "      <td>3.270965e-04</td>\n",
       "    </tr>\n",
       "    <tr>\n",
       "      <th>24</th>\n",
       "      <td>chr17:41245466:G/A</td>\n",
       "      <td>chr12:49440207:C/A</td>\n",
       "      <td>1.419448e-02</td>\n",
       "    </tr>\n",
       "    <tr>\n",
       "      <th>25</th>\n",
       "      <td>chr17:41245466:G/A</td>\n",
       "      <td>chr1:27099479:G/A</td>\n",
       "      <td>2.172815e-03</td>\n",
       "    </tr>\n",
       "  </tbody>\n",
       "</table>\n",
       "</div>"
      ],
      "text/plain": [
       "             mutation1           mutation2   exclusivity\n",
       "3    chr2:25457199:T/C    chr16:347184:A/G  3.668695e-03\n",
       "4    chr2:25457199:T/C  chr19:11096851:A/G  2.393277e-03\n",
       "5    chr2:25457199:T/C  chr17:29685905:A/G  2.622583e-04\n",
       "7    chr2:25457199:T/C   chr1:27099479:G/A  2.086475e-04\n",
       "9    chr17:7577556:C/T  chr17:41245466:G/A  2.635669e-13\n",
       "21  chr17:41245466:G/A    chr16:347184:A/G  3.381742e-04\n",
       "23  chr17:41245466:G/A  chr17:29685905:A/G  3.270965e-04\n",
       "24  chr17:41245466:G/A  chr12:49440207:C/A  1.419448e-02\n",
       "25  chr17:41245466:G/A   chr1:27099479:G/A  2.172815e-03"
      ]
     },
     "execution_count": 187,
     "metadata": {},
     "output_type": "execute_result"
    }
   ],
   "source": [
    "df_test[df_test['exclusivity'] < 0.05]"
   ]
  },
  {
   "cell_type": "markdown",
   "id": "898a3305-ac16-4aa6-8efe-1517ff82c921",
   "metadata": {},
   "source": [
    "# using TEA"
   ]
  },
  {
   "cell_type": "code",
   "execution_count": 25,
   "id": "cd891913-f87e-485b-9bf7-f4b015fa4a0b",
   "metadata": {},
   "outputs": [],
   "source": [
    "from tea.snv.me import get_exclusivity"
   ]
  },
  {
   "cell_type": "code",
   "execution_count": 26,
   "id": "66b800df-0275-47dc-a715-1672f3ce081e",
   "metadata": {},
   "outputs": [
    {
     "name": "stdout",
     "output_type": "stream",
     "text": [
      "Time to compute presence probabilities: 0.024572134017944336\n"
     ]
    },
    {
     "name": "stderr",
     "output_type": "stream",
     "text": [
      "/Users/psashittal/Documents/research/tea/src/tea/snv/me.py:112: RuntimeWarning: divide by zero encountered in log\n",
      "  null_prob_mut_1 = np.exp(logsumexp(np.log(npp_mut_1), axis=0) - np.log(ncells))\n",
      "/Users/psashittal/Documents/research/tea/src/tea/snv/me.py:113: RuntimeWarning: divide by zero encountered in log\n",
      "  null_prob_mut_2 = np.exp(logsumexp(np.log(npp_mut_2), axis=0) - np.log(ncells))\n"
     ]
    },
    {
     "name": "stdout",
     "output_type": "stream",
     "text": [
      "Time to compute mutual exclusivity: 3.539987087249756\n"
     ]
    }
   ],
   "source": [
    "E = 1 - get_exclusivity(\n",
    "    pt.dna.get_attribute('DP', constraint='row', features=VOI),\n",
    "    pt.dna.get_attribute('alt_read_count', constraint='row', features=VOI),\n",
    "    # rm_irrelevant_cells = False\n",
    ")"
   ]
  },
  {
   "cell_type": "code",
   "execution_count": 27,
   "id": "fd338cd3-efdc-468c-98d6-b1e5a8ed9d60",
   "metadata": {},
   "outputs": [
    {
     "data": {
      "text/html": [
       "<div>\n",
       "<style scoped>\n",
       "    .dataframe tbody tr th:only-of-type {\n",
       "        vertical-align: middle;\n",
       "    }\n",
       "\n",
       "    .dataframe tbody tr th {\n",
       "        vertical-align: top;\n",
       "    }\n",
       "\n",
       "    .dataframe thead th {\n",
       "        text-align: right;\n",
       "    }\n",
       "</style>\n",
       "<table border=\"1\" class=\"dataframe\">\n",
       "  <thead>\n",
       "    <tr style=\"text-align: right;\">\n",
       "      <th></th>\n",
       "      <th>chr12:25398284:C/A</th>\n",
       "      <th>chr18:48573531:G/A</th>\n",
       "      <th>chr18:48573570:G/A</th>\n",
       "      <th>chr12:25398284:C/T</th>\n",
       "    </tr>\n",
       "  </thead>\n",
       "  <tbody>\n",
       "    <tr>\n",
       "      <th>chr12:25398284:C/A</th>\n",
       "      <td>1.000000e+00</td>\n",
       "      <td>1.000000e+00</td>\n",
       "      <td>1.000000e+00</td>\n",
       "      <td>4.681577e-07</td>\n",
       "    </tr>\n",
       "    <tr>\n",
       "      <th>chr18:48573531:G/A</th>\n",
       "      <td>1.000000e+00</td>\n",
       "      <td>1.000000e+00</td>\n",
       "      <td>1.000000e+00</td>\n",
       "      <td>1.305844e-12</td>\n",
       "    </tr>\n",
       "    <tr>\n",
       "      <th>chr18:48573570:G/A</th>\n",
       "      <td>1.000000e+00</td>\n",
       "      <td>1.000000e+00</td>\n",
       "      <td>1.000000e+00</td>\n",
       "      <td>1.451506e-12</td>\n",
       "    </tr>\n",
       "    <tr>\n",
       "      <th>chr12:25398284:C/T</th>\n",
       "      <td>4.681577e-07</td>\n",
       "      <td>1.305844e-12</td>\n",
       "      <td>1.451506e-12</td>\n",
       "      <td>1.000000e+00</td>\n",
       "    </tr>\n",
       "  </tbody>\n",
       "</table>\n",
       "</div>"
      ],
      "text/plain": [
       "                    chr12:25398284:C/A  chr18:48573531:G/A  \\\n",
       "chr12:25398284:C/A        1.000000e+00        1.000000e+00   \n",
       "chr18:48573531:G/A        1.000000e+00        1.000000e+00   \n",
       "chr18:48573570:G/A        1.000000e+00        1.000000e+00   \n",
       "chr12:25398284:C/T        4.681577e-07        1.305844e-12   \n",
       "\n",
       "                    chr18:48573570:G/A  chr12:25398284:C/T  \n",
       "chr12:25398284:C/A        1.000000e+00        4.681577e-07  \n",
       "chr18:48573531:G/A        1.000000e+00        1.305844e-12  \n",
       "chr18:48573570:G/A        1.000000e+00        1.451506e-12  \n",
       "chr12:25398284:C/T        1.451506e-12        1.000000e+00  "
      ]
     },
     "execution_count": 27,
     "metadata": {},
     "output_type": "execute_result"
    }
   ],
   "source": [
    "E"
   ]
  },
  {
   "cell_type": "markdown",
   "id": "0f597014-d6b2-4d3d-a1ec-cbac1eeb2a9b",
   "metadata": {},
   "source": [
    "# Fisher exact test"
   ]
  },
  {
   "cell_type": "code",
   "execution_count": 122,
   "id": "d262b149-28f8-42b0-9a91-d363aee5ea20",
   "metadata": {},
   "outputs": [],
   "source": [
    "vaf_threshold = 0.1\n",
    "dp_threshold = 10\n",
    "alt_threshold = 3"
   ]
  },
  {
   "cell_type": "code",
   "execution_count": 123,
   "id": "2a1c895d-d276-4de9-abd8-9cae83a59f60",
   "metadata": {},
   "outputs": [],
   "source": [
    "df_vaf = df_alt / df_total"
   ]
  },
  {
   "cell_type": "code",
   "execution_count": 124,
   "id": "da99e116-d428-453d-9130-88687517d244",
   "metadata": {},
   "outputs": [],
   "source": [
    "df_mutation = ((df_vaf >= vaf_threshold) & (df_total >= dp_threshold) & (df_alt >= alt_threshold)).astype(int)"
   ]
  },
  {
   "cell_type": "code",
   "execution_count": 125,
   "id": "c2c3526d-28fe-468a-9f84-60b28e79fb3e",
   "metadata": {},
   "outputs": [
    {
     "data": {
      "text/html": [
       "<div>\n",
       "<style scoped>\n",
       "    .dataframe tbody tr th:only-of-type {\n",
       "        vertical-align: middle;\n",
       "    }\n",
       "\n",
       "    .dataframe tbody tr th {\n",
       "        vertical-align: top;\n",
       "    }\n",
       "\n",
       "    .dataframe thead th {\n",
       "        text-align: right;\n",
       "    }\n",
       "</style>\n",
       "<table border=\"1\" class=\"dataframe\">\n",
       "  <thead>\n",
       "    <tr style=\"text-align: right;\">\n",
       "      <th></th>\n",
       "      <th>chr12:25398284:C/A</th>\n",
       "      <th>chr18:48573531:G/A</th>\n",
       "      <th>chr18:48573570:G/A</th>\n",
       "      <th>chr12:25398284:C/T</th>\n",
       "    </tr>\n",
       "    <tr>\n",
       "      <th>alt_read_count</th>\n",
       "      <th></th>\n",
       "      <th></th>\n",
       "      <th></th>\n",
       "      <th></th>\n",
       "    </tr>\n",
       "  </thead>\n",
       "  <tbody>\n",
       "    <tr>\n",
       "      <th>cell_1-RA17_22-32_1</th>\n",
       "      <td>0</td>\n",
       "      <td>0</td>\n",
       "      <td>0</td>\n",
       "      <td>0</td>\n",
       "    </tr>\n",
       "    <tr>\n",
       "      <th>cell_10-RA17_22-32_1</th>\n",
       "      <td>0</td>\n",
       "      <td>0</td>\n",
       "      <td>0</td>\n",
       "      <td>0</td>\n",
       "    </tr>\n",
       "    <tr>\n",
       "      <th>cell_100-RA17_22-32_1</th>\n",
       "      <td>0</td>\n",
       "      <td>0</td>\n",
       "      <td>0</td>\n",
       "      <td>0</td>\n",
       "    </tr>\n",
       "    <tr>\n",
       "      <th>cell_1000-RA17_22-32_1</th>\n",
       "      <td>0</td>\n",
       "      <td>0</td>\n",
       "      <td>0</td>\n",
       "      <td>0</td>\n",
       "    </tr>\n",
       "    <tr>\n",
       "      <th>cell_1001-RA17_22-32_1</th>\n",
       "      <td>0</td>\n",
       "      <td>0</td>\n",
       "      <td>0</td>\n",
       "      <td>0</td>\n",
       "    </tr>\n",
       "    <tr>\n",
       "      <th>...</th>\n",
       "      <td>...</td>\n",
       "      <td>...</td>\n",
       "      <td>...</td>\n",
       "      <td>...</td>\n",
       "    </tr>\n",
       "    <tr>\n",
       "      <th>cell_95-RA17_22-27_2</th>\n",
       "      <td>0</td>\n",
       "      <td>0</td>\n",
       "      <td>0</td>\n",
       "      <td>0</td>\n",
       "    </tr>\n",
       "    <tr>\n",
       "      <th>cell_96-RA17_22-27_2</th>\n",
       "      <td>0</td>\n",
       "      <td>0</td>\n",
       "      <td>0</td>\n",
       "      <td>0</td>\n",
       "    </tr>\n",
       "    <tr>\n",
       "      <th>cell_97-RA17_22-27_2</th>\n",
       "      <td>1</td>\n",
       "      <td>0</td>\n",
       "      <td>1</td>\n",
       "      <td>0</td>\n",
       "    </tr>\n",
       "    <tr>\n",
       "      <th>cell_98-RA17_22-27_2</th>\n",
       "      <td>0</td>\n",
       "      <td>0</td>\n",
       "      <td>0</td>\n",
       "      <td>0</td>\n",
       "    </tr>\n",
       "    <tr>\n",
       "      <th>cell_99-RA17_22-27_2</th>\n",
       "      <td>0</td>\n",
       "      <td>0</td>\n",
       "      <td>0</td>\n",
       "      <td>0</td>\n",
       "    </tr>\n",
       "  </tbody>\n",
       "</table>\n",
       "<p>16139 rows × 4 columns</p>\n",
       "</div>"
      ],
      "text/plain": [
       "                        chr12:25398284:C/A  chr18:48573531:G/A  \\\n",
       "alt_read_count                                                   \n",
       "cell_1-RA17_22-32_1                      0                   0   \n",
       "cell_10-RA17_22-32_1                     0                   0   \n",
       "cell_100-RA17_22-32_1                    0                   0   \n",
       "cell_1000-RA17_22-32_1                   0                   0   \n",
       "cell_1001-RA17_22-32_1                   0                   0   \n",
       "...                                    ...                 ...   \n",
       "cell_95-RA17_22-27_2                     0                   0   \n",
       "cell_96-RA17_22-27_2                     0                   0   \n",
       "cell_97-RA17_22-27_2                     1                   0   \n",
       "cell_98-RA17_22-27_2                     0                   0   \n",
       "cell_99-RA17_22-27_2                     0                   0   \n",
       "\n",
       "                        chr18:48573570:G/A  chr12:25398284:C/T  \n",
       "alt_read_count                                                  \n",
       "cell_1-RA17_22-32_1                      0                   0  \n",
       "cell_10-RA17_22-32_1                     0                   0  \n",
       "cell_100-RA17_22-32_1                    0                   0  \n",
       "cell_1000-RA17_22-32_1                   0                   0  \n",
       "cell_1001-RA17_22-32_1                   0                   0  \n",
       "...                                    ...                 ...  \n",
       "cell_95-RA17_22-27_2                     0                   0  \n",
       "cell_96-RA17_22-27_2                     0                   0  \n",
       "cell_97-RA17_22-27_2                     1                   0  \n",
       "cell_98-RA17_22-27_2                     0                   0  \n",
       "cell_99-RA17_22-27_2                     0                   0  \n",
       "\n",
       "[16139 rows x 4 columns]"
      ]
     },
     "execution_count": 125,
     "metadata": {},
     "output_type": "execute_result"
    }
   ],
   "source": [
    "df_mutation"
   ]
  },
  {
   "cell_type": "code",
   "execution_count": 126,
   "id": "6f3e44bb-53c9-4dcf-bd0a-2f84d8757b01",
   "metadata": {},
   "outputs": [],
   "source": [
    "df_mutation2 = df_mutation.copy()"
   ]
  },
  {
   "cell_type": "code",
   "execution_count": 113,
   "id": "8ab15d1a-8c5f-4ae8-800a-8e47155dcce3",
   "metadata": {},
   "outputs": [],
   "source": [
    "mutation_list = df_mutation.columns"
   ]
  },
  {
   "cell_type": "code",
   "execution_count": 87,
   "id": "07eb5791-a967-4736-87e2-a79c6190c026",
   "metadata": {},
   "outputs": [],
   "source": [
    "test_data = []\n",
    "for mutation1, mutation2 in itertools.combinations(mutation_list, 2):\n",
    "    # print(mutation1, mutation2)\n",
    "    \n",
    "    confusion_mat = np.zeros((2,2))\n",
    "    \n",
    "    vec1 = df_mutation[mutation1].values\n",
    "    vec2 = df_mutation[mutation2].values\n",
    "    \n",
    "    confusion_mat[0,0] = ((vec1 == 1) & (vec2 == 1)).sum()\n",
    "    confusion_mat[1,0] = ((vec1 == 0) & (vec2 == 1)).sum()\n",
    "    confusion_mat[0,1] = ((vec1 == 1) & (vec2 == 0)).sum()\n",
    "    confusion_mat[1,1] = ((vec1 == 0) & (vec2 == 0)).sum()    \n",
    "    \n",
    "    exclusivity_pvalue = fisher_exact(confusion_mat, alternative='less')[1]\n",
    "    co_occurrence_pvalue = fisher_exact(confusion_mat, alternative='greater')[1]\n",
    "    \n",
    "    test_data.append([mutation1, mutation2, exclusivity_pvalue, co_occurrence_pvalue])"
   ]
  },
  {
   "cell_type": "code",
   "execution_count": 88,
   "id": "cfbbe6a6-28f7-496e-b4e9-eb969f54f623",
   "metadata": {},
   "outputs": [],
   "source": [
    "df_test = pd.DataFrame(test_data, columns = ['mutation1', 'mutation2', 'exclusivity', 'co-occurrence'])"
   ]
  },
  {
   "cell_type": "code",
   "execution_count": 89,
   "id": "991a16e8-4440-4fbc-ba24-d7d7fc6240d9",
   "metadata": {},
   "outputs": [
    {
     "data": {
      "text/html": [
       "<div>\n",
       "<style scoped>\n",
       "    .dataframe tbody tr th:only-of-type {\n",
       "        vertical-align: middle;\n",
       "    }\n",
       "\n",
       "    .dataframe tbody tr th {\n",
       "        vertical-align: top;\n",
       "    }\n",
       "\n",
       "    .dataframe thead th {\n",
       "        text-align: right;\n",
       "    }\n",
       "</style>\n",
       "<table border=\"1\" class=\"dataframe\">\n",
       "  <thead>\n",
       "    <tr style=\"text-align: right;\">\n",
       "      <th></th>\n",
       "      <th>mutation1</th>\n",
       "      <th>mutation2</th>\n",
       "      <th>exclusivity</th>\n",
       "      <th>co-occurrence</th>\n",
       "    </tr>\n",
       "  </thead>\n",
       "  <tbody>\n",
       "    <tr>\n",
       "      <th>0</th>\n",
       "      <td>chr12:25398284:C/A</td>\n",
       "      <td>chr18:48573531:G/A</td>\n",
       "      <td>1.000000</td>\n",
       "      <td>0.000000</td>\n",
       "    </tr>\n",
       "    <tr>\n",
       "      <th>1</th>\n",
       "      <td>chr12:25398284:C/A</td>\n",
       "      <td>chr18:48573570:G/A</td>\n",
       "      <td>1.000000</td>\n",
       "      <td>0.000000</td>\n",
       "    </tr>\n",
       "    <tr>\n",
       "      <th>2</th>\n",
       "      <td>chr12:25398284:C/A</td>\n",
       "      <td>chr12:25398284:C/T</td>\n",
       "      <td>0.015592</td>\n",
       "      <td>0.995188</td>\n",
       "    </tr>\n",
       "    <tr>\n",
       "      <th>3</th>\n",
       "      <td>chr18:48573531:G/A</td>\n",
       "      <td>chr18:48573570:G/A</td>\n",
       "      <td>1.000000</td>\n",
       "      <td>0.000000</td>\n",
       "    </tr>\n",
       "    <tr>\n",
       "      <th>4</th>\n",
       "      <td>chr18:48573531:G/A</td>\n",
       "      <td>chr12:25398284:C/T</td>\n",
       "      <td>0.043613</td>\n",
       "      <td>0.985552</td>\n",
       "    </tr>\n",
       "    <tr>\n",
       "      <th>5</th>\n",
       "      <td>chr18:48573570:G/A</td>\n",
       "      <td>chr12:25398284:C/T</td>\n",
       "      <td>0.044521</td>\n",
       "      <td>0.985199</td>\n",
       "    </tr>\n",
       "  </tbody>\n",
       "</table>\n",
       "</div>"
      ],
      "text/plain": [
       "            mutation1           mutation2  exclusivity  co-occurrence\n",
       "0  chr12:25398284:C/A  chr18:48573531:G/A     1.000000       0.000000\n",
       "1  chr12:25398284:C/A  chr18:48573570:G/A     1.000000       0.000000\n",
       "2  chr12:25398284:C/A  chr12:25398284:C/T     0.015592       0.995188\n",
       "3  chr18:48573531:G/A  chr18:48573570:G/A     1.000000       0.000000\n",
       "4  chr18:48573531:G/A  chr12:25398284:C/T     0.043613       0.985552\n",
       "5  chr18:48573570:G/A  chr12:25398284:C/T     0.044521       0.985199"
      ]
     },
     "execution_count": 89,
     "metadata": {},
     "output_type": "execute_result"
    }
   ],
   "source": [
    "df_test"
   ]
  },
  {
   "cell_type": "markdown",
   "id": "1608bd20-7df3-4f05-867d-b42d9c5c2479",
   "metadata": {},
   "source": [
    "# fisher exact test with likelihood-based genotyping"
   ]
  },
  {
   "cell_type": "code",
   "execution_count": 134,
   "id": "52e6be02-22b0-45e6-902d-02bbe2bef667",
   "metadata": {},
   "outputs": [],
   "source": [
    "ado_precision = 15 # precision parameter\n",
    "fp = 0.001 # false positive rate"
   ]
  },
  {
   "cell_type": "code",
   "execution_count": 135,
   "id": "f38e14e8-dca7-44cb-99a6-6fc3b80b69cc",
   "metadata": {},
   "outputs": [],
   "source": [
    "total_reads_mat = df_total.values\n",
    "alt_reads_mat = df_alt.values\n",
    "\n",
    "bb_alpha = fp * ado_precision\n",
    "bb_beta = (1 - fp) * ado_precision\n",
    "\n",
    "presence_coeff_mat = betabinom.logpmf(alt_reads_mat, total_reads_mat, 1, 1)\n",
    "absence_coeff_mat = betabinom.logpmf(alt_reads_mat, total_reads_mat, bb_alpha, bb_beta)"
   ]
  },
  {
   "cell_type": "code",
   "execution_count": 136,
   "id": "0f998e45-dc0b-405e-a59e-590dd2a9c273",
   "metadata": {},
   "outputs": [],
   "source": [
    "df_mutation = pd.DataFrame((presence_coeff_mat > absence_coeff_mat).astype(int), \n",
    "                           index=df_total.index,\n",
    "                           columns=df_total.columns)\n",
    "\n",
    "df_mutation[df_total < 10] = 0"
   ]
  },
  {
   "cell_type": "code",
   "execution_count": 137,
   "id": "395e0559-24fb-44a8-9671-77b59ecb5c43",
   "metadata": {},
   "outputs": [],
   "source": [
    "mutation_list = df_mutation.columns"
   ]
  },
  {
   "cell_type": "code",
   "execution_count": 138,
   "id": "ffcc2ec7-6fb9-4e56-8e7f-3f5d6b0a80d5",
   "metadata": {},
   "outputs": [],
   "source": [
    "test_data = []\n",
    "for mutation1, mutation2 in itertools.combinations(mutation_list, 2):\n",
    "    # print(mutation1, mutation2)\n",
    "    \n",
    "    confusion_mat = np.zeros((2,2))\n",
    "    \n",
    "    vec1 = df_mutation[mutation1].values\n",
    "    vec2 = df_mutation[mutation2].values\n",
    "    \n",
    "    confusion_mat[0,0] = ((vec1 == 1) & (vec2 == 1)).sum()\n",
    "    confusion_mat[1,0] = ((vec1 == 0) & (vec2 == 1)).sum()\n",
    "    confusion_mat[0,1] = ((vec1 == 1) & (vec2 == 0)).sum()\n",
    "    confusion_mat[1,1] = ((vec1 == 0) & (vec2 == 0)).sum()    \n",
    "    \n",
    "    exclusivity_pvalue = fisher_exact(confusion_mat, alternative='less')[1]\n",
    "    co_occurrence_pvalue = fisher_exact(confusion_mat, alternative='greater')[1]\n",
    "    \n",
    "    test_data.append([mutation1, mutation2, exclusivity_pvalue, co_occurrence_pvalue])"
   ]
  },
  {
   "cell_type": "code",
   "execution_count": 139,
   "id": "4b010d9a-7267-4a68-94e5-496f4426ca56",
   "metadata": {},
   "outputs": [],
   "source": [
    "df_test = pd.DataFrame(test_data, columns = ['mutation1', 'mutation2', 'exclusivity', 'co-occurrence'])"
   ]
  },
  {
   "cell_type": "code",
   "execution_count": 150,
   "id": "6aa30975-f6f8-4f0e-ad81-aaf03ba0513f",
   "metadata": {},
   "outputs": [
    {
     "data": {
      "text/html": [
       "<div>\n",
       "<style scoped>\n",
       "    .dataframe tbody tr th:only-of-type {\n",
       "        vertical-align: middle;\n",
       "    }\n",
       "\n",
       "    .dataframe tbody tr th {\n",
       "        vertical-align: top;\n",
       "    }\n",
       "\n",
       "    .dataframe thead th {\n",
       "        text-align: right;\n",
       "    }\n",
       "</style>\n",
       "<table border=\"1\" class=\"dataframe\">\n",
       "  <thead>\n",
       "    <tr style=\"text-align: right;\">\n",
       "      <th></th>\n",
       "      <th>mutation1</th>\n",
       "      <th>mutation2</th>\n",
       "      <th>exclusivity</th>\n",
       "      <th>co-occurrence</th>\n",
       "    </tr>\n",
       "  </thead>\n",
       "  <tbody>\n",
       "    <tr>\n",
       "      <th>0</th>\n",
       "      <td>chr12:25398284:C/A</td>\n",
       "      <td>chr18:48573531:G/A</td>\n",
       "      <td>1.000000</td>\n",
       "      <td>0.000000e+00</td>\n",
       "    </tr>\n",
       "    <tr>\n",
       "      <th>1</th>\n",
       "      <td>chr12:25398284:C/A</td>\n",
       "      <td>chr18:48573570:G/A</td>\n",
       "      <td>1.000000</td>\n",
       "      <td>0.000000e+00</td>\n",
       "    </tr>\n",
       "    <tr>\n",
       "      <th>2</th>\n",
       "      <td>chr12:25398284:C/A</td>\n",
       "      <td>chr12:25398284:C/T</td>\n",
       "      <td>1.000000</td>\n",
       "      <td>2.642875e-08</td>\n",
       "    </tr>\n",
       "    <tr>\n",
       "      <th>3</th>\n",
       "      <td>chr18:48573531:G/A</td>\n",
       "      <td>chr18:48573570:G/A</td>\n",
       "      <td>1.000000</td>\n",
       "      <td>0.000000e+00</td>\n",
       "    </tr>\n",
       "    <tr>\n",
       "      <th>4</th>\n",
       "      <td>chr18:48573531:G/A</td>\n",
       "      <td>chr12:25398284:C/T</td>\n",
       "      <td>0.999999</td>\n",
       "      <td>2.147331e-06</td>\n",
       "    </tr>\n",
       "    <tr>\n",
       "      <th>5</th>\n",
       "      <td>chr18:48573570:G/A</td>\n",
       "      <td>chr12:25398284:C/T</td>\n",
       "      <td>0.999998</td>\n",
       "      <td>4.610121e-06</td>\n",
       "    </tr>\n",
       "  </tbody>\n",
       "</table>\n",
       "</div>"
      ],
      "text/plain": [
       "            mutation1           mutation2  exclusivity  co-occurrence\n",
       "0  chr12:25398284:C/A  chr18:48573531:G/A     1.000000   0.000000e+00\n",
       "1  chr12:25398284:C/A  chr18:48573570:G/A     1.000000   0.000000e+00\n",
       "2  chr12:25398284:C/A  chr12:25398284:C/T     1.000000   2.642875e-08\n",
       "3  chr18:48573531:G/A  chr18:48573570:G/A     1.000000   0.000000e+00\n",
       "4  chr18:48573531:G/A  chr12:25398284:C/T     0.999999   2.147331e-06\n",
       "5  chr18:48573570:G/A  chr12:25398284:C/T     0.999998   4.610121e-06"
      ]
     },
     "execution_count": 150,
     "metadata": {},
     "output_type": "execute_result"
    }
   ],
   "source": [
    "df_test"
   ]
  },
  {
   "cell_type": "code",
   "execution_count": null,
   "id": "17c9ed49-fe6e-4ab0-8fc0-1a0dc52fdebe",
   "metadata": {},
   "outputs": [],
   "source": []
  }
 ],
 "metadata": {
  "kernelspec": {
   "display_name": "mosaic2",
   "language": "python",
   "name": "mosaic2"
  },
  "language_info": {
   "codemirror_mode": {
    "name": "ipython",
    "version": 3
   },
   "file_extension": ".py",
   "mimetype": "text/x-python",
   "name": "python",
   "nbconvert_exporter": "python",
   "pygments_lexer": "ipython3",
   "version": "3.10.17"
  }
 },
 "nbformat": 4,
 "nbformat_minor": 5
}
